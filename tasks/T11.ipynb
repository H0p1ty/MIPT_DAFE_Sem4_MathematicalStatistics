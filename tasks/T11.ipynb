{
 "cells": [
  {
   "cell_type": "code",
   "execution_count": 1,
   "id": "db471bcf",
   "metadata": {},
   "outputs": [],
   "source": [
    "import numpy as np \n",
    "import pandas as pd\n",
    "import math\n",
    "import matplotlib.pyplot as plt \n",
    "import scipy.optimize\n",
    "from scipy.stats import chi2, kstwobign, norm\n",
    "from mpmath import mp\n",
    "\n",
    "plt.rcParams['figure.figsize'] = (10.0, 8.0) # set default size of plots\n",
    "plt.rcParams['image.interpolation'] = 'nearest'\n",
    "plt.rcParams['image.cmap'] = 'gray'"
   ]
  },
  {
   "cell_type": "markdown",
   "id": "6a97fe4a",
   "metadata": {},
   "source": [
    "# $$H_0: \\xi \\text{\\textasciitilde} p_0(x) = 1\\{(0, 1)\\}$$\n",
    "# $$H_1: \\xi \\text{\\textasciitilde} p_1(x) = \\frac{e}{e-1}e^{-x}\\{(0, 1)\\}$$"
   ]
  },
  {
   "cell_type": "markdown",
   "id": "c2424885",
   "metadata": {},
   "source": [
    "# а) n = 1,  $\\alpha$\n",
    "# $\\alpha_1$ = ?, $\\alpha_2$ = ?, W = ?"
   ]
  },
  {
   "cell_type": "markdown",
   "id": "88fdca2d",
   "metadata": {},
   "source": [
    "#### $l = \\frac{L_1}{L_2} = \\frac{e}{e-1}e^{-x} \\ge C$ $\\ $ $\\Longrightarrow$ $\\ $ $e^{-x} \\ge B$ $\\ $ $\\Longrightarrow$ $\\ $ $x \\le A$\n",
    "#### $P(x \\le A | H_0) = \\alpha$ $\\ \\xRightarrow{A \\in (0, 1)}$ $\\displaystyle\\int_{0}^{A} dx = A = \\alpha$ $\\Longrightarrow$\n"
   ]
  },
  {
   "cell_type": "markdown",
   "id": "19ceb4a2",
   "metadata": {},
   "source": [
    "#### G: x $\\le \\alpha$ $\\ \\ \\alpha_1 = \\alpha$\n",
    "#### W = $P(x \\le A|H_1) = \\displaystyle\\int_{0}^{\\alpha} \\frac{e}{e-1}e^{-x}dx = \\frac{e}{e-1}(1 - e^{-\\alpha})$\n",
    "#### $\\alpha_2 = 1 - W$"
   ]
  },
  {
   "cell_type": "code",
   "execution_count": null,
   "id": "9f819901",
   "metadata": {},
   "outputs": [],
   "source": []
  },
  {
   "cell_type": "code",
   "execution_count": null,
   "id": "0fee2d86",
   "metadata": {},
   "outputs": [],
   "source": []
  },
  {
   "cell_type": "markdown",
   "id": "d38e7439",
   "metadata": {},
   "source": [
    "# b) n = 2, $\\alpha$\n",
    "# $\\alpha_1 =\\ ?,\\ \\alpha_2 =\\ ?, W =\\ ?$"
   ]
  },
  {
   "cell_type": "markdown",
   "id": "558a9d76",
   "metadata": {},
   "source": [
    "#### $l = \\frac{L_1}{L_0} = (\\frac{e}{e-1})^2 e^{-(x_1 + x_2)} \\ge C\\ \\Longrightarrow\\ e^{-(x_1 + x_2)} \\ge B \\ \\Longrightarrow\\ x_1 + x_2 \\le A$\n",
    "#### $P(x_1 + x_2 \\le A|H_0) = \\alpha\\ \\Longrightarrow\\ \\displaystyle\\iint_{x_1 + x_2 \\le A}^{} dx_1 dx_2 = \\frac{A^2}{2} = \\alpha\\ \\Longrightarrow\\ A = \\sqrt{2\\alpha}$\n",
    "#### G: $x_1 + x_2 \\le \\sqrt{2\\alpha},\\ \\ \\ \\ \\alpha_1 = \\alpha$\n",
    "#### $W = P(x_1 + x_2 \\le A|H_1) = \\displaystyle\\iint_{x_1 + x_2 \\le A}^{} (\\frac{e}{e-1})^2 e^{-(x_1 + x_2)}dx_1 dx_2 =...=$\n",
    "#### $ = (\\frac{e}{e-1})^2 (1 - e^{-A} - Ae^{-A}) = (\\frac{e}{e-1})^2 (1 - e^{-\\sqrt{2\\alpha}} - Ae^{-\\sqrt{2\\alpha}})$\n",
    "#### $\\alpha_2 = 1 - W$"
   ]
  },
  {
   "cell_type": "markdown",
   "id": "3ca57de9",
   "metadata": {},
   "source": [
    "# c)\n",
    "### $ Наиболее\\ мощный\\ асимптотический\\ критерий\\ по\\ выборке\\ объёма\\ n\\ $\n",
    "### $ с\\ уровнем\\ значимости\\ \\alpha. $\n",
    "### $  $\n",
    "### $\\alpha_1 =\\ ?,\\ \\alpha_2 =\\ ?,\\ W =\\ ?,\\ исследовать\\ состоятельность$"
   ]
  },
  {
   "cell_type": "markdown",
   "id": "313ad87c",
   "metadata": {},
   "source": [
    "#### $l = \\frac{L_1}{L_0} = \\displaystyle\\prod_{i = 1}^{n} \\frac{P_1(x_i)}{P_0(x_i)} \\ge C$\n",
    "#### $ln(l) = \\displaystyle\\sum_{i = 1}^{n} ln\\frac{P_1(x_i)}{P_0(x_i)} \\ge ln\\ \\eta_i = ln(\\frac{P_1(x_i)}{P_0(x_i)})$"
   ]
  },
  {
   "cell_type": "markdown",
   "id": "1e9c9476",
   "metadata": {},
   "source": [
    "#### $\\frac{\\displaystyle\\sum_{i = 1}^{n} \\eta_i - nM[\\eta_i]}{\\sqrt{n D[\\eta_i]}} \\text{\\textasciitilde}\\ N(0, 1),\\ \\ n \\rightarrow \\infty$"
   ]
  },
  {
   "cell_type": "markdown",
   "id": "6985ab52",
   "metadata": {},
   "source": [
    "# G"
   ]
  },
  {
   "cell_type": "markdown",
   "id": "2c48acba",
   "metadata": {},
   "source": [
    "#### $ G:\\ P(ln(l) \\ge lnC | H_0) =\\ \\alpha$\n",
    "#### $H_0: \\eta_i = ln\\frac{e}{e-1}e^{-x} = \\frac{ne}{e-1} - \\displaystyle\\sum_{i=1}^{n} x_i \\ge lnC\\ \\Longrightarrow\\ G: \\displaystyle\\sum_{i=1}^{n} x_i \\le A$\n",
    "#### $$\\ \\ \\ \\ \\ \\ \\ \\ \\ \\ \\ \\ \\ \\ \\ \\ \\ \\ \\ \\ \\ \\ \\ \\ \\ \\ \\ \\ \\ \\ \\ \\ \\ \\ \\ \\ \\ \\ \\ \\ \\ \\ \\ \\ \\ \\ \\ \\ \\ \\ \\ \\ \\ \\ \\ \\ \\ \\ \\ \\ \\ \\ \\ \\ \\ M[x] = \\frac{1}{2},\\ \\ \\ \\ D[x]=\\frac{1}{12}$$\n",
    "#### $P\\Bigg(\\frac{\\displaystyle\\sum_{i=1}^{n} x_i - nM[x]}{\\sqrt{nD[x]}} \\le \\frac{A - nM[x]}{\\sqrt{nD[x]}} | H_0\\Bigg) = \\alpha$\n",
    "#### $\\frac{A - \\frac{n}{2}}{\\sqrt{\\frac{n}{12}}} = u_{\\alpha}\\ \\Longrightarrow\\ A = \\frac{n}{2} + u_{\\alpha}\\sqrt{\\frac{n}{12}},\\ \\ \\ \\ u_{\\alpha}:\\ \\displaystyle\\int_{-\\infty}^{u_\\alpha} \\frac{1}{\\sqrt{2\\pi}}e^{\\frac{-x^2}{2}}dx = \\alpha$\n",
    "#### $G: \\displaystyle\\sum_{i=1}^{n} \\le \\frac{n}{2} + u_{\\alpha}\\sqrt{\\frac{n}{12}},\\ \\ \\ \\ \\alpha_1 = \\alpha$"
   ]
  },
  {
   "cell_type": "markdown",
   "id": "1f3f3362",
   "metadata": {},
   "source": [
    "# W"
   ]
  },
  {
   "cell_type": "markdown",
   "id": "bcabe99e",
   "metadata": {},
   "source": [
    "#### $W = P(\\displaystyle\\sum_{i = 1}^{n} x_i \\le A | H_1) = P\\Bigg(\\frac{\\displaystyle\\sum_{i=1}^{n} x_i - nM[x]}{\\sqrt{nD[x]}} \\le \\frac{A - nM[x]}{\\sqrt{nD[x]}} | H_0\\Bigg),\\ \\ \\ \\ B = \\frac{A - nM[x]}{\\sqrt{nD[x]}}$\n",
    "#### $M[x] = \\displaystyle\\int_{0}^{1} x\\frac{e}{e-1}e^{-x}dx = \\frac{e-2}{e-1}$\n",
    "#### $M[x^2] = \\frac{2e-5}{e-1},\\ \\ \\ \\ D[x] = \\frac{e^2 - 3e + 1}{(e-1)^2}$\n",
    "#### $G: \\displaystyle\\sum_{i=1}^{n} x_i \\le \\frac{n}{2} + u_{\\alpha}\\sqrt{\\frac{n}{12}}$\n",
    "### $B = \\frac{\\frac{n}{2} + u_{\\alpha}\\sqrt{\\frac{n}{12}} - n\\frac{e-2}{e-1}}{\\sqrt{n\\frac{e^2 - 3e + 1}{(e-1)^2}}} = \\frac{n(-///-) + (-////-)}{\\sqrt{n}(-//-)} \\Longrightarrow B \\rightarrow +\\infty, n \\rightarrow \\infty$\n",
    "#### $\\alpha_2 = 1 - W$\n",
    "#### $W = \\displaystyle\\int_{-\\infty}^{B} \\frac{1}{\\sqrt{2\\pi}}e^{-\\frac{x^2}{2}}dx \\rightarrow 1,\\ n \\rightarrow \\infty\\ \\Longrightarrow\\ сост.$"
   ]
  },
  {
   "cell_type": "markdown",
   "id": "d1049d64",
   "metadata": {},
   "source": [
    "# d)"
   ]
  }
 ],
 "metadata": {
  "kernelspec": {
   "display_name": "Python 3",
   "language": "python",
   "name": "python3"
  },
  "language_info": {
   "codemirror_mode": {
    "name": "ipython",
    "version": 3
   },
   "file_extension": ".py",
   "mimetype": "text/x-python",
   "name": "python",
   "nbconvert_exporter": "python",
   "pygments_lexer": "ipython3",
   "version": "3.11.8"
  }
 },
 "nbformat": 4,
 "nbformat_minor": 5
}
